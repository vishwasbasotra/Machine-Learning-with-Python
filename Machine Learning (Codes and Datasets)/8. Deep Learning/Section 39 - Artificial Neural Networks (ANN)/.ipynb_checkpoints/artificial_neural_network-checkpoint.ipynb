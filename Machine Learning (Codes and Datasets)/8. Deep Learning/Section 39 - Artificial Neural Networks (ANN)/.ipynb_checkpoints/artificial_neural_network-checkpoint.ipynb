{
 "cells": [
  {
   "cell_type": "markdown",
   "metadata": {
    "colab_type": "text",
    "id": "lP6JLo1tGNBg"
   },
   "source": [
    "# Artificial Neural Network"
   ]
  },
  {
   "cell_type": "markdown",
   "metadata": {
    "colab_type": "text",
    "id": "gWZyYmS_UE_L"
   },
   "source": [
    "### Importing the libraries"
   ]
  },
  {
   "cell_type": "code",
   "execution_count": 1,
   "metadata": {},
   "outputs": [],
   "source": [
    "import pandas as pd\n",
    "import numpy as np\n",
    "import tensorflow as tf"
   ]
  },
  {
   "cell_type": "code",
   "execution_count": 2,
   "metadata": {},
   "outputs": [
    {
     "data": {
      "text/plain": [
       "'2.1.0'"
      ]
     },
     "execution_count": 2,
     "metadata": {},
     "output_type": "execute_result"
    }
   ],
   "source": [
    "tf.__version__"
   ]
  },
  {
   "cell_type": "markdown",
   "metadata": {
    "colab_type": "text",
    "id": "1E0Q3aoKUCRX"
   },
   "source": [
    "## Part 1 - Data Preprocessing"
   ]
  },
  {
   "cell_type": "markdown",
   "metadata": {
    "colab_type": "text",
    "id": "cKWAkFVGUU0Z"
   },
   "source": [
    "### Importing the dataset"
   ]
  },
  {
   "cell_type": "code",
   "execution_count": 3,
   "metadata": {},
   "outputs": [],
   "source": [
    "dataset = pd.read_csv('Churn_Modelling.csv')\n",
    "X = dataset.iloc[:,3:-1].values\n",
    "y = dataset.iloc[:,-1].values"
   ]
  },
  {
   "cell_type": "code",
   "execution_count": 4,
   "metadata": {},
   "outputs": [
    {
     "name": "stdout",
     "output_type": "stream",
     "text": [
      "[[619 'France' 'Female' ... 1 1 101348.88]\n",
      " [608 'Spain' 'Female' ... 0 1 112542.58]\n",
      " [502 'France' 'Female' ... 1 0 113931.57]\n",
      " ...\n",
      " [709 'France' 'Female' ... 0 1 42085.58]\n",
      " [772 'Germany' 'Male' ... 1 0 92888.52]\n",
      " [792 'France' 'Female' ... 1 0 38190.78]]\n"
     ]
    }
   ],
   "source": [
    "print(X)"
   ]
  },
  {
   "cell_type": "code",
   "execution_count": 5,
   "metadata": {},
   "outputs": [
    {
     "name": "stdout",
     "output_type": "stream",
     "text": [
      "[1 0 1 ... 1 1 0]\n"
     ]
    }
   ],
   "source": [
    "print(y)"
   ]
  },
  {
   "cell_type": "markdown",
   "metadata": {
    "colab_type": "text",
    "id": "N6bQ0UgSU-NJ"
   },
   "source": [
    "### Encoding categorical data"
   ]
  },
  {
   "cell_type": "markdown",
   "metadata": {
    "colab_type": "text",
    "id": "le5MJreAbW52"
   },
   "source": [
    "Label Encoding the \"Gender\" column"
   ]
  },
  {
   "cell_type": "code",
   "execution_count": 6,
   "metadata": {},
   "outputs": [],
   "source": [
    "from sklearn.preprocessing import LabelEncoder\n",
    "le = LabelEncoder()\n",
    "X[:,2] = le.fit_transform(X[:,2])"
   ]
  },
  {
   "cell_type": "code",
   "execution_count": 7,
   "metadata": {},
   "outputs": [
    {
     "data": {
      "text/plain": [
       "array([[619, 'France', 0, ..., 1, 1, 101348.88],\n",
       "       [608, 'Spain', 0, ..., 0, 1, 112542.58],\n",
       "       [502, 'France', 0, ..., 1, 0, 113931.57],\n",
       "       ...,\n",
       "       [709, 'France', 0, ..., 0, 1, 42085.58],\n",
       "       [772, 'Germany', 1, ..., 1, 0, 92888.52],\n",
       "       [792, 'France', 0, ..., 1, 0, 38190.78]], dtype=object)"
      ]
     },
     "execution_count": 7,
     "metadata": {},
     "output_type": "execute_result"
    }
   ],
   "source": [
    "X"
   ]
  },
  {
   "cell_type": "markdown",
   "metadata": {
    "colab_type": "text",
    "id": "CUxGZezpbMcb"
   },
   "source": [
    "One Hot Encoding the \"Geography\" column"
   ]
  },
  {
   "cell_type": "code",
   "execution_count": 8,
   "metadata": {},
   "outputs": [],
   "source": [
    "from sklearn.preprocessing import OneHotEncoder\n",
    "from sklearn.compose import ColumnTransformer\n",
    "ct = ColumnTransformer(transformers=[('encode',OneHotEncoder(),[1])], remainder='passthrough')\n",
    "X = np.array(ct.fit_transform(X))"
   ]
  },
  {
   "cell_type": "code",
   "execution_count": 9,
   "metadata": {},
   "outputs": [
    {
     "name": "stdout",
     "output_type": "stream",
     "text": [
      "[[1.0 0.0 0.0 ... 1 1 101348.88]\n",
      " [0.0 0.0 1.0 ... 0 1 112542.58]\n",
      " [1.0 0.0 0.0 ... 1 0 113931.57]\n",
      " ...\n",
      " [1.0 0.0 0.0 ... 0 1 42085.58]\n",
      " [0.0 1.0 0.0 ... 1 0 92888.52]\n",
      " [1.0 0.0 0.0 ... 1 0 38190.78]]\n"
     ]
    }
   ],
   "source": [
    "print(X)"
   ]
  },
  {
   "cell_type": "markdown",
   "metadata": {},
   "source": [
    "### Splitting the dataset into the Training set and Test set"
   ]
  },
  {
   "cell_type": "code",
   "execution_count": 10,
   "metadata": {},
   "outputs": [],
   "source": [
    "from sklearn.model_selection import train_test_split\n",
    "X_train, X_test, y_train, y_test = train_test_split(X, y, test_size = 0.2, random_state = 0)"
   ]
  },
  {
   "cell_type": "markdown",
   "metadata": {
    "colab_type": "text",
    "id": "RE_FcHyfV3TQ"
   },
   "source": [
    "### Feature Scaling"
   ]
  },
  {
   "cell_type": "code",
   "execution_count": 11,
   "metadata": {},
   "outputs": [],
   "source": [
    "from sklearn.preprocessing import StandardScaler\n",
    "sc = StandardScaler()\n",
    "X_train =sc.fit_transform(X_train)\n",
    "X_test = sc.transform(X_test)"
   ]
  },
  {
   "cell_type": "code",
   "execution_count": 12,
   "metadata": {},
   "outputs": [
    {
     "name": "stdout",
     "output_type": "stream",
     "text": [
      "[[-1.01460667 -0.5698444   1.74309049 ...  0.64259497 -1.03227043\n",
      "   1.10643166]\n",
      " [-1.01460667  1.75486502 -0.57369368 ...  0.64259497  0.9687384\n",
      "  -0.74866447]\n",
      " [ 0.98560362 -0.5698444  -0.57369368 ...  0.64259497 -1.03227043\n",
      "   1.48533467]\n",
      " ...\n",
      " [ 0.98560362 -0.5698444  -0.57369368 ...  0.64259497 -1.03227043\n",
      "   1.41231994]\n",
      " [-1.01460667 -0.5698444   1.74309049 ...  0.64259497  0.9687384\n",
      "   0.84432121]\n",
      " [-1.01460667  1.75486502 -0.57369368 ...  0.64259497 -1.03227043\n",
      "   0.32472465]] \n",
      "\n",
      "------------------------------------------------\n",
      "\n",
      " [[-1.01460667  1.75486502 -0.57369368 ...  0.64259497  0.9687384\n",
      "   1.61085707]\n",
      " [ 0.98560362 -0.5698444  -0.57369368 ...  0.64259497 -1.03227043\n",
      "   0.49587037]\n",
      " [-1.01460667 -0.5698444   1.74309049 ...  0.64259497  0.9687384\n",
      "  -0.42478674]\n",
      " ...\n",
      " [-1.01460667 -0.5698444   1.74309049 ...  0.64259497 -1.03227043\n",
      "   0.71888467]\n",
      " [-1.01460667  1.75486502 -0.57369368 ...  0.64259497  0.9687384\n",
      "  -1.54507805]\n",
      " [-1.01460667  1.75486502 -0.57369368 ...  0.64259497 -1.03227043\n",
      "   1.61255917]]\n"
     ]
    }
   ],
   "source": [
    "print(X_train,'\\n\\n------------------------------------------------\\n\\n',X_test)"
   ]
  },
  {
   "cell_type": "markdown",
   "metadata": {
    "colab_type": "text",
    "id": "-zfEzkRVXIwF"
   },
   "source": [
    "## Part 2 - Building the ANN (Artificial Neural Network)"
   ]
  },
  {
   "cell_type": "markdown",
   "metadata": {
    "colab_type": "text",
    "id": "KvdeScabXtlB"
   },
   "source": [
    "### Initializing the ANN"
   ]
  },
  {
   "cell_type": "code",
   "execution_count": 13,
   "metadata": {},
   "outputs": [],
   "source": [
    "ann = tf.keras.models.Sequential()"
   ]
  },
  {
   "cell_type": "markdown",
   "metadata": {
    "colab_type": "text",
    "id": "rP6urV6SX7kS"
   },
   "source": [
    "### Adding the input layer and the first hidden layer"
   ]
  },
  {
   "cell_type": "code",
   "execution_count": 14,
   "metadata": {},
   "outputs": [],
   "source": [
    "ann.add(tf.keras.layers.Dense(units=6, activation = 'relu'))"
   ]
  },
  {
   "cell_type": "markdown",
   "metadata": {
    "colab_type": "text",
    "id": "BELWAc_8YJze"
   },
   "source": [
    "### Adding the second hidden layer"
   ]
  },
  {
   "cell_type": "code",
   "execution_count": 15,
   "metadata": {},
   "outputs": [],
   "source": [
    "ann.add(tf.keras.layers.Dense(units=6, activation='relu'))"
   ]
  },
  {
   "cell_type": "markdown",
   "metadata": {
    "colab_type": "text",
    "id": "OyNEe6RXYcU4"
   },
   "source": [
    "### Adding the output layer"
   ]
  },
  {
   "cell_type": "code",
   "execution_count": 16,
   "metadata": {},
   "outputs": [],
   "source": [
    "ann.add(tf.keras.layers.Dense(units=1,activation='sigmoid'))"
   ]
  },
  {
   "cell_type": "markdown",
   "metadata": {
    "colab_type": "text",
    "id": "JT4u2S1_Y4WG"
   },
   "source": [
    "## Part 3 -Training the ANN"
   ]
  },
  {
   "cell_type": "markdown",
   "metadata": {
    "colab_type": "text",
    "id": "8GWlJChhY_ZI"
   },
   "source": [
    "### Compiling the ANN\n",
    "i.e., Applying Stochastic Gradient Descent"
   ]
  },
  {
   "cell_type": "code",
   "execution_count": 19,
   "metadata": {},
   "outputs": [],
   "source": [
    "# optimizer = 'adam' for Stochastic Gradient Descent\n",
    "# loss = 'binary_crossentropy' for 2 categorical output (1 0r 0)\n",
    "# loss = 'categorical_crossentropy' from more than 2 categories\n",
    "# metric = ['accuracy'] for increasing the accuracy of weights during backpropagation\n",
    "\n",
    "ann.compile(optimizer='adam',loss='binary_crossentropy', metrics=['accuracy'])"
   ]
  },
  {
   "cell_type": "markdown",
   "metadata": {
    "colab_type": "text",
    "id": "0QR_G5u7ZLSM"
   },
   "source": [
    "### Training the ANN on the Training set"
   ]
  },
  {
   "cell_type": "code",
   "execution_count": 23,
   "metadata": {},
   "outputs": [
    {
     "name": "stdout",
     "output_type": "stream",
     "text": [
      "Train on 8000 samples\n",
      "Epoch 1/100\n",
      "8000/8000 [==============================] - 0s 52us/sample - loss: 0.3270 - accuracy: 0.8662\n",
      "Epoch 2/100\n",
      "8000/8000 [==============================] - 0s 55us/sample - loss: 0.3266 - accuracy: 0.8670\n",
      "Epoch 3/100\n",
      "8000/8000 [==============================] - 0s 53us/sample - loss: 0.3270 - accuracy: 0.8654\n",
      "Epoch 4/100\n",
      "8000/8000 [==============================] - 0s 47us/sample - loss: 0.3269 - accuracy: 0.8677\n",
      "Epoch 5/100\n",
      "8000/8000 [==============================] - 0s 50us/sample - loss: 0.3266 - accuracy: 0.8666\n",
      "Epoch 6/100\n",
      "8000/8000 [==============================] - 0s 60us/sample - loss: 0.3271 - accuracy: 0.8661\n",
      "Epoch 7/100\n",
      "8000/8000 [==============================] - 0s 42us/sample - loss: 0.3273 - accuracy: 0.8665\n",
      "Epoch 8/100\n",
      "8000/8000 [==============================] - 0s 40us/sample - loss: 0.3268 - accuracy: 0.8673\n",
      "Epoch 9/100\n",
      "8000/8000 [==============================] - 0s 40us/sample - loss: 0.3271 - accuracy: 0.8662\n",
      "Epoch 10/100\n",
      "8000/8000 [==============================] - 0s 50us/sample - loss: 0.3266 - accuracy: 0.8662\n",
      "Epoch 11/100\n",
      "8000/8000 [==============================] - 0s 44us/sample - loss: 0.3268 - accuracy: 0.8662\n",
      "Epoch 12/100\n",
      "8000/8000 [==============================] - 0s 37us/sample - loss: 0.3266 - accuracy: 0.8668\n",
      "Epoch 13/100\n",
      "8000/8000 [==============================] - 0s 36us/sample - loss: 0.3263 - accuracy: 0.8679\n",
      "Epoch 14/100\n",
      "8000/8000 [==============================] - ETA: 0s - loss: 0.3257 - accuracy: 0.86 - 0s 37us/sample - loss: 0.3268 - accuracy: 0.8676\n",
      "Epoch 15/100\n",
      "8000/8000 [==============================] - 0s 37us/sample - loss: 0.3264 - accuracy: 0.8680\n",
      "Epoch 16/100\n",
      "8000/8000 [==============================] - 0s 36us/sample - loss: 0.3269 - accuracy: 0.8674\n",
      "Epoch 17/100\n",
      "8000/8000 [==============================] - 0s 37us/sample - loss: 0.3264 - accuracy: 0.8662\n",
      "Epoch 18/100\n",
      "8000/8000 [==============================] - 0s 36us/sample - loss: 0.3269 - accuracy: 0.8664\n",
      "Epoch 19/100\n",
      "8000/8000 [==============================] - 0s 37us/sample - loss: 0.3265 - accuracy: 0.8655\n",
      "Epoch 20/100\n",
      "8000/8000 [==============================] - 0s 39us/sample - loss: 0.3265 - accuracy: 0.8664\n",
      "Epoch 21/100\n",
      "8000/8000 [==============================] - 0s 50us/sample - loss: 0.3263 - accuracy: 0.8665\n",
      "Epoch 22/100\n",
      "8000/8000 [==============================] - 0s 44us/sample - loss: 0.3268 - accuracy: 0.8668\n",
      "Epoch 23/100\n",
      "8000/8000 [==============================] - 0s 51us/sample - loss: 0.3268 - accuracy: 0.8679\n",
      "Epoch 24/100\n",
      "8000/8000 [==============================] - 0s 43us/sample - loss: 0.3267 - accuracy: 0.8660\n",
      "Epoch 25/100\n",
      "8000/8000 [==============================] - 0s 44us/sample - loss: 0.3266 - accuracy: 0.8662\n",
      "Epoch 26/100\n",
      "8000/8000 [==============================] - 0s 47us/sample - loss: 0.3265 - accuracy: 0.8676\n",
      "Epoch 27/100\n",
      "8000/8000 [==============================] - 0s 43us/sample - loss: 0.3269 - accuracy: 0.8664\n",
      "Epoch 28/100\n",
      "8000/8000 [==============================] - 0s 54us/sample - loss: 0.3268 - accuracy: 0.8666\n",
      "Epoch 29/100\n",
      "8000/8000 [==============================] - 0s 50us/sample - loss: 0.3267 - accuracy: 0.8661\n",
      "Epoch 30/100\n",
      "8000/8000 [==============================] - 0s 43us/sample - loss: 0.3267 - accuracy: 0.8665\n",
      "Epoch 31/100\n",
      "8000/8000 [==============================] - 0s 38us/sample - loss: 0.3267 - accuracy: 0.8656\n",
      "Epoch 32/100\n",
      "8000/8000 [==============================] - 0s 36us/sample - loss: 0.3265 - accuracy: 0.8669\n",
      "Epoch 33/100\n",
      "8000/8000 [==============================] - 0s 37us/sample - loss: 0.3266 - accuracy: 0.8677\n",
      "Epoch 34/100\n",
      "8000/8000 [==============================] - 0s 40us/sample - loss: 0.3263 - accuracy: 0.8665\n",
      "Epoch 35/100\n",
      "8000/8000 [==============================] - 0s 46us/sample - loss: 0.3268 - accuracy: 0.8665\n",
      "Epoch 36/100\n",
      "8000/8000 [==============================] - 0s 57us/sample - loss: 0.3265 - accuracy: 0.8669\n",
      "Epoch 37/100\n",
      "8000/8000 [==============================] - 0s 51us/sample - loss: 0.3264 - accuracy: 0.8650\n",
      "Epoch 38/100\n",
      "8000/8000 [==============================] - 0s 45us/sample - loss: 0.3272 - accuracy: 0.8673\n",
      "Epoch 39/100\n",
      "8000/8000 [==============================] - 0s 41us/sample - loss: 0.3265 - accuracy: 0.8675\n",
      "Epoch 40/100\n",
      "8000/8000 [==============================] - 0s 52us/sample - loss: 0.3265 - accuracy: 0.8669\n",
      "Epoch 41/100\n",
      "8000/8000 [==============================] - 0s 46us/sample - loss: 0.3267 - accuracy: 0.8671\n",
      "Epoch 42/100\n",
      "8000/8000 [==============================] - 0s 54us/sample - loss: 0.3266 - accuracy: 0.8669\n",
      "Epoch 43/100\n",
      "8000/8000 [==============================] - 0s 57us/sample - loss: 0.3262 - accuracy: 0.8666\n",
      "Epoch 44/100\n",
      "8000/8000 [==============================] - 0s 50us/sample - loss: 0.3261 - accuracy: 0.8669\n",
      "Epoch 45/100\n",
      "8000/8000 [==============================] - 1s 66us/sample - loss: 0.3268 - accuracy: 0.8656\n",
      "Epoch 46/100\n",
      "8000/8000 [==============================] - 0s 52us/sample - loss: 0.3265 - accuracy: 0.8649\n",
      "Epoch 47/100\n",
      "8000/8000 [==============================] - 0s 55us/sample - loss: 0.3266 - accuracy: 0.8652\n",
      "Epoch 48/100\n",
      "8000/8000 [==============================] - 0s 51us/sample - loss: 0.3265 - accuracy: 0.8656\n",
      "Epoch 49/100\n",
      "8000/8000 [==============================] - 0s 51us/sample - loss: 0.3265 - accuracy: 0.8661\n",
      "Epoch 50/100\n",
      "8000/8000 [==============================] - 0s 53us/sample - loss: 0.3263 - accuracy: 0.8668\n",
      "Epoch 51/100\n",
      "8000/8000 [==============================] - 1s 76us/sample - loss: 0.3264 - accuracy: 0.8666\n",
      "Epoch 52/100\n",
      "8000/8000 [==============================] - 1s 79us/sample - loss: 0.3263 - accuracy: 0.8659\n",
      "Epoch 53/100\n",
      "8000/8000 [==============================] - 1s 70us/sample - loss: 0.3267 - accuracy: 0.8656\n",
      "Epoch 54/100\n",
      "8000/8000 [==============================] - 1s 68us/sample - loss: 0.3263 - accuracy: 0.8675\n",
      "Epoch 55/100\n",
      "8000/8000 [==============================] - 0s 47us/sample - loss: 0.3263 - accuracy: 0.8670\n",
      "Epoch 56/100\n",
      "8000/8000 [==============================] - 0s 46us/sample - loss: 0.3265 - accuracy: 0.8652\n",
      "Epoch 57/100\n",
      "8000/8000 [==============================] - 0s 45us/sample - loss: 0.3265 - accuracy: 0.8664\n",
      "Epoch 58/100\n",
      "8000/8000 [==============================] - 0s 53us/sample - loss: 0.3264 - accuracy: 0.8662\n",
      "Epoch 59/100\n",
      "8000/8000 [==============================] - 0s 60us/sample - loss: 0.3268 - accuracy: 0.8674\n",
      "Epoch 60/100\n",
      "8000/8000 [==============================] - 0s 53us/sample - loss: 0.3264 - accuracy: 0.8668\n",
      "Epoch 61/100\n",
      "8000/8000 [==============================] - 0s 42us/sample - loss: 0.3264 - accuracy: 0.8661\n",
      "Epoch 62/100\n",
      "8000/8000 [==============================] - 0s 50us/sample - loss: 0.3264 - accuracy: 0.8673\n",
      "Epoch 63/100\n",
      "8000/8000 [==============================] - 0s 47us/sample - loss: 0.3268 - accuracy: 0.8658\n",
      "Epoch 64/100\n",
      "8000/8000 [==============================] - 0s 53us/sample - loss: 0.3266 - accuracy: 0.8660\n",
      "Epoch 65/100\n",
      "8000/8000 [==============================] - 0s 52us/sample - loss: 0.3274 - accuracy: 0.8655\n",
      "Epoch 66/100\n",
      "8000/8000 [==============================] - 0s 40us/sample - loss: 0.3264 - accuracy: 0.8654\n",
      "Epoch 67/100\n",
      "8000/8000 [==============================] - 0s 44us/sample - loss: 0.3265 - accuracy: 0.8676\n",
      "Epoch 68/100\n",
      "8000/8000 [==============================] - 0s 43us/sample - loss: 0.3267 - accuracy: 0.8670\n",
      "Epoch 69/100\n",
      "8000/8000 [==============================] - 0s 44us/sample - loss: 0.3262 - accuracy: 0.8665\n",
      "Epoch 70/100\n",
      "8000/8000 [==============================] - 0s 54us/sample - loss: 0.3267 - accuracy: 0.8658\n",
      "Epoch 71/100\n",
      "8000/8000 [==============================] - 0s 52us/sample - loss: 0.3266 - accuracy: 0.8651\n",
      "Epoch 72/100\n",
      "8000/8000 [==============================] - 0s 53us/sample - loss: 0.3263 - accuracy: 0.8675\n",
      "Epoch 73/100\n",
      "8000/8000 [==============================] - 0s 46us/sample - loss: 0.3268 - accuracy: 0.8658\n",
      "Epoch 74/100\n",
      "8000/8000 [==============================] - 0s 48us/sample - loss: 0.3265 - accuracy: 0.8668\n",
      "Epoch 75/100\n",
      "8000/8000 [==============================] - 0s 52us/sample - loss: 0.3265 - accuracy: 0.8662\n",
      "Epoch 76/100\n",
      "8000/8000 [==============================] - 0s 58us/sample - loss: 0.3263 - accuracy: 0.8665\n",
      "Epoch 77/100\n"
     ]
    },
    {
     "name": "stdout",
     "output_type": "stream",
     "text": [
      "8000/8000 [==============================] - 0s 39us/sample - loss: 0.3262 - accuracy: 0.8666\n",
      "Epoch 78/100\n",
      "8000/8000 [==============================] - 0s 42us/sample - loss: 0.3261 - accuracy: 0.8669\n",
      "Epoch 79/100\n",
      "8000/8000 [==============================] - 0s 48us/sample - loss: 0.3264 - accuracy: 0.8661\n",
      "Epoch 80/100\n",
      "8000/8000 [==============================] - 1s 64us/sample - loss: 0.3264 - accuracy: 0.8679\n",
      "Epoch 81/100\n",
      "8000/8000 [==============================] - 1s 63us/sample - loss: 0.3266 - accuracy: 0.8662\n",
      "Epoch 82/100\n",
      "8000/8000 [==============================] - 0s 45us/sample - loss: 0.3266 - accuracy: 0.8673\n",
      "Epoch 83/100\n",
      "8000/8000 [==============================] - 0s 43us/sample - loss: 0.3264 - accuracy: 0.8662\n",
      "Epoch 84/100\n",
      "8000/8000 [==============================] - 0s 46us/sample - loss: 0.3260 - accuracy: 0.8651\n",
      "Epoch 85/100\n",
      "8000/8000 [==============================] - 0s 43us/sample - loss: 0.3263 - accuracy: 0.8674\n",
      "Epoch 86/100\n",
      "8000/8000 [==============================] - 0s 44us/sample - loss: 0.3263 - accuracy: 0.8665\n",
      "Epoch 87/100\n",
      "8000/8000 [==============================] - 0s 47us/sample - loss: 0.3267 - accuracy: 0.8668\n",
      "Epoch 88/100\n",
      "8000/8000 [==============================] - 0s 51us/sample - loss: 0.3266 - accuracy: 0.8656\n",
      "Epoch 89/100\n",
      "8000/8000 [==============================] - 0s 51us/sample - loss: 0.3265 - accuracy: 0.8669\n",
      "Epoch 90/100\n",
      "8000/8000 [==============================] - 0s 52us/sample - loss: 0.3263 - accuracy: 0.8665\n",
      "Epoch 91/100\n",
      "8000/8000 [==============================] - 0s 53us/sample - loss: 0.3263 - accuracy: 0.8670\n",
      "Epoch 92/100\n",
      "8000/8000 [==============================] - 1s 74us/sample - loss: 0.3266 - accuracy: 0.8671\n",
      "Epoch 93/100\n",
      "8000/8000 [==============================] - 0s 41us/sample - loss: 0.3267 - accuracy: 0.8648\n",
      "Epoch 94/100\n",
      "8000/8000 [==============================] - 0s 49us/sample - loss: 0.3266 - accuracy: 0.8661\n",
      "Epoch 95/100\n",
      "8000/8000 [==============================] - 0s 48us/sample - loss: 0.3265 - accuracy: 0.8674\n",
      "Epoch 96/100\n",
      "8000/8000 [==============================] - 0s 36us/sample - loss: 0.3267 - accuracy: 0.8664\n",
      "Epoch 97/100\n",
      "8000/8000 [==============================] - 0s 44us/sample - loss: 0.3266 - accuracy: 0.8665\n",
      "Epoch 98/100\n",
      "8000/8000 [==============================] - 0s 48us/sample - loss: 0.3266 - accuracy: 0.8676\n",
      "Epoch 99/100\n",
      "8000/8000 [==============================] - 0s 37us/sample - loss: 0.3266 - accuracy: 0.8669\n",
      "Epoch 100/100\n",
      "8000/8000 [==============================] - 0s 37us/sample - loss: 0.3267 - accuracy: 0.8650\n"
     ]
    },
    {
     "data": {
      "text/plain": [
       "<tensorflow.python.keras.callbacks.History at 0x2594e279688>"
      ]
     },
     "execution_count": 23,
     "metadata": {},
     "output_type": "execute_result"
    }
   ],
   "source": [
    "ann.fit(X_train,y_train, batch_size=32, epochs=100)"
   ]
  },
  {
   "cell_type": "markdown",
   "metadata": {
    "colab_type": "text",
    "id": "tJj5k2MxZga3"
   },
   "source": [
    "## Part 4 - Making the predictions and evaluating the model"
   ]
  },
  {
   "cell_type": "markdown",
   "metadata": {
    "colab_type": "text",
    "id": "u7yx47jPZt11"
   },
   "source": [
    "### Predicting the Test set results"
   ]
  },
  {
   "cell_type": "code",
   "execution_count": 24,
   "metadata": {},
   "outputs": [
    {
     "name": "stdout",
     "output_type": "stream",
     "text": [
      "[[0 0]\n",
      " [0 1]\n",
      " [0 0]\n",
      " ...\n",
      " [0 0]\n",
      " [0 0]\n",
      " [0 0]]\n"
     ]
    }
   ],
   "source": [
    "y_pred = ann.predict(X_test)\n",
    "y_pred = (y_pred > 0.5)\n",
    "print(np.concatenate((y_pred.reshape(len(y_pred),1), y_test.reshape(len(y_test),1)),1))"
   ]
  },
  {
   "cell_type": "markdown",
   "metadata": {
    "colab_type": "text",
    "id": "o0oyfLWoaEGw"
   },
   "source": [
    "### Making the Confusion Matrix"
   ]
  },
  {
   "cell_type": "code",
   "execution_count": 25,
   "metadata": {},
   "outputs": [
    {
     "name": "stdout",
     "output_type": "stream",
     "text": [
      "[[1507   88]\n",
      " [ 186  219]]\n"
     ]
    },
    {
     "data": {
      "text/plain": [
       "0.863"
      ]
     },
     "execution_count": 25,
     "metadata": {},
     "output_type": "execute_result"
    }
   ],
   "source": [
    "from sklearn.metrics import confusion_matrix,accuracy_score\n",
    "cm = confusion_matrix(y_test,y_pred)\n",
    "print(cm)\n",
    "accuracy_score(y_test,y_pred)"
   ]
  }
 ],
 "metadata": {
  "colab": {
   "authorship_tag": "ABX9TyMwbl0jJoa05wuIU59y39H3",
   "collapsed_sections": [],
   "name": "Artificial Neural Network",
   "provenance": []
  },
  "kernelspec": {
   "display_name": "Python 3",
   "language": "python",
   "name": "python3"
  },
  "language_info": {
   "codemirror_mode": {
    "name": "ipython",
    "version": 3
   },
   "file_extension": ".py",
   "mimetype": "text/x-python",
   "name": "python",
   "nbconvert_exporter": "python",
   "pygments_lexer": "ipython3",
   "version": "3.7.7"
  }
 },
 "nbformat": 4,
 "nbformat_minor": 1
}
