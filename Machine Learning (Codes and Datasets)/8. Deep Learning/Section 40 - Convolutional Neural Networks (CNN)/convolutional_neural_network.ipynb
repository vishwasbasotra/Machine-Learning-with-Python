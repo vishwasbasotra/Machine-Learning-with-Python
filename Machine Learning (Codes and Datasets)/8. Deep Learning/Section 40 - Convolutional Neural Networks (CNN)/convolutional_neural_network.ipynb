{
 "cells": [
  {
   "cell_type": "markdown",
   "metadata": {
    "colab_type": "text",
    "id": "3DR-eO17geWu"
   },
   "source": [
    "# Convolutional Neural Network"
   ]
  },
  {
   "cell_type": "markdown",
   "metadata": {
    "colab_type": "text",
    "id": "EMefrVPCg-60"
   },
   "source": [
    "### Importing the libraries"
   ]
  },
  {
   "cell_type": "code",
   "execution_count": 1,
   "metadata": {},
   "outputs": [
    {
     "name": "stderr",
     "output_type": "stream",
     "text": [
      "Using TensorFlow backend.\n"
     ]
    }
   ],
   "source": [
    "import tensorflow as tf\n",
    "import numpy as np\n",
    "import pandas as pd\n",
    "from keras.preprocessing.image import ImageDataGenerator"
   ]
  },
  {
   "cell_type": "code",
   "execution_count": 2,
   "metadata": {
    "colab": {
     "base_uri": "https://localhost:8080/",
     "height": 34
    },
    "colab_type": "code",
    "executionInfo": {
     "elapsed": 2558,
     "status": "ok",
     "timestamp": 1586435320042,
     "user": {
      "displayName": "Hadelin de Ponteves",
      "photoUrl": "https://lh3.googleusercontent.com/a-/AOh14GhEuXdT7eQweUmRPW8_laJuPggSK6hfvpl5a6WBaA=s64",
      "userId": "15047218817161520419"
     },
     "user_tz": -240
    },
    "id": "FIleuCAjoFD8",
    "outputId": "9f4bbca7-a8c6-4a14-8354-82c989248f45",
    "scrolled": true
   },
   "outputs": [
    {
     "data": {
      "text/plain": [
       "'2.1.0'"
      ]
     },
     "execution_count": 2,
     "metadata": {},
     "output_type": "execute_result"
    }
   ],
   "source": [
    "tf.__version__"
   ]
  },
  {
   "cell_type": "markdown",
   "metadata": {
    "colab_type": "text",
    "id": "oxQxCBWyoGPE"
   },
   "source": [
    "## Part 1 - Data Preprocessing"
   ]
  },
  {
   "cell_type": "markdown",
   "metadata": {
    "colab_type": "text",
    "id": "y8K74-1foOic"
   },
   "source": [
    "### Preprocessing the Training set"
   ]
  },
  {
   "cell_type": "code",
   "execution_count": 3,
   "metadata": {},
   "outputs": [
    {
     "name": "stdout",
     "output_type": "stream",
     "text": [
      "Found 8000 images belonging to 2 classes.\n"
     ]
    }
   ],
   "source": [
    "train_datagen = ImageDataGenerator(\n",
    "        rescale=1./255,      # feature scaling\n",
    "        shear_range=0.2,\n",
    "        zoom_range=0.2,\n",
    "        horizontal_flip=True)\n",
    "training_set = train_datagen.flow_from_directory(\n",
    "        'dataset/training_set',\n",
    "        target_size=(64, 64),\n",
    "        batch_size=32,\n",
    "        class_mode='binary')"
   ]
  },
  {
   "cell_type": "markdown",
   "metadata": {
    "colab_type": "text",
    "id": "LXXei7qHornJ"
   },
   "source": [
    "### Preprocessing the Test set"
   ]
  },
  {
   "cell_type": "code",
   "execution_count": 4,
   "metadata": {},
   "outputs": [
    {
     "name": "stdout",
     "output_type": "stream",
     "text": [
      "Found 2000 images belonging to 2 classes.\n"
     ]
    }
   ],
   "source": [
    "test_datagen = ImageDataGenerator(rescale=1./255)    # feature scaling\n",
    "test_set = test_datagen.flow_from_directory(\n",
    "        'dataset/test_set',\n",
    "        target_size=(64, 64),\n",
    "        batch_size=32,\n",
    "        class_mode='binary')"
   ]
  },
  {
   "cell_type": "markdown",
   "metadata": {
    "colab_type": "text",
    "id": "af8O4l90gk7B"
   },
   "source": [
    "## Part 2 - Building the CNN"
   ]
  },
  {
   "cell_type": "markdown",
   "metadata": {
    "colab_type": "text",
    "id": "ces1gXY2lmoX"
   },
   "source": [
    "### Initialising the CNN"
   ]
  },
  {
   "cell_type": "code",
   "execution_count": 5,
   "metadata": {},
   "outputs": [],
   "source": [
    "cnn = tf.keras.models.Sequential()"
   ]
  },
  {
   "cell_type": "markdown",
   "metadata": {
    "colab_type": "text",
    "id": "u5YJj_XMl5LF"
   },
   "source": [
    "### Step 1 - Convolution"
   ]
  },
  {
   "cell_type": "code",
   "execution_count": 6,
   "metadata": {},
   "outputs": [],
   "source": [
    "cnn.add(tf.keras.layers.Conv2D(filters=32,            # no. of filters\n",
    "                               kernel_size=3,         # dimension of feature detecter\n",
    "                               activation='relu',     # rectifier activation function\n",
    "                               input_shape=[64,64,3]  # 3 for rgb and 1 for b/w\n",
    "                              )\n",
    "       )"
   ]
  },
  {
   "cell_type": "markdown",
   "metadata": {
    "colab_type": "text",
    "id": "tf87FpvxmNOJ"
   },
   "source": [
    "### Step 2 - Pooling"
   ]
  },
  {
   "cell_type": "code",
   "execution_count": 7,
   "metadata": {},
   "outputs": [],
   "source": [
    "cnn.add(tf.keras.layers.MaxPool2D(pool_size=2,      # dimension of pool size\n",
    "                                  strides=2         # number of pixel frame shift\n",
    "                                 )\n",
    "       )"
   ]
  },
  {
   "cell_type": "markdown",
   "metadata": {
    "colab_type": "text",
    "id": "xaTOgD8rm4mU"
   },
   "source": [
    "### Adding a second convolutional layer"
   ]
  },
  {
   "cell_type": "code",
   "execution_count": 8,
   "metadata": {},
   "outputs": [],
   "source": [
    "cnn.add(tf.keras.layers.Conv2D(filters=32,            # no. of filters\n",
    "                               kernel_size=3,         # dimension of feature detecter\n",
    "                               activation='relu'      # rectifier activation function\n",
    "                              )\n",
    "       )\n",
    "cnn.add(tf.keras.layers.MaxPool2D(pool_size=2,      # dimension of pool size\n",
    "                                  strides=2         # number of pixel frame shift\n",
    "                                 )\n",
    "       )"
   ]
  },
  {
   "cell_type": "markdown",
   "metadata": {
    "colab_type": "text",
    "id": "tmiEuvTunKfk"
   },
   "source": [
    "### Step 3 - Flattening"
   ]
  },
  {
   "cell_type": "code",
   "execution_count": 9,
   "metadata": {},
   "outputs": [],
   "source": [
    "cnn.add(tf.keras.layers.Flatten())"
   ]
  },
  {
   "cell_type": "markdown",
   "metadata": {
    "colab_type": "text",
    "id": "dAoSECOm203v"
   },
   "source": [
    "### Step 4 - Full Connection"
   ]
  },
  {
   "cell_type": "code",
   "execution_count": 10,
   "metadata": {},
   "outputs": [],
   "source": [
    "cnn.add(tf.keras.layers.Dense(units=128, activation='relu'))"
   ]
  },
  {
   "cell_type": "markdown",
   "metadata": {
    "colab_type": "text",
    "id": "yTldFvbX28Na"
   },
   "source": [
    "### Step 5 - Output Layer"
   ]
  },
  {
   "cell_type": "code",
   "execution_count": 11,
   "metadata": {},
   "outputs": [],
   "source": [
    "cnn.add(tf.keras.layers.Dense(units=1, activation='sigmoid'))"
   ]
  },
  {
   "cell_type": "markdown",
   "metadata": {
    "colab_type": "text",
    "id": "D6XkI90snSDl"
   },
   "source": [
    "## Part 3 - Training the CNN"
   ]
  },
  {
   "cell_type": "markdown",
   "metadata": {
    "colab_type": "text",
    "id": "vfrFQACEnc6i"
   },
   "source": [
    "### Compiling the CNN"
   ]
  },
  {
   "cell_type": "code",
   "execution_count": 12,
   "metadata": {},
   "outputs": [],
   "source": [
    "cnn.compile(optimizer = 'adam',      # stochastic gradient descent\n",
    "            loss = 'binary_crossentropy',  # cross entropy\n",
    "            metrics = ['accuracy'], sample_weight_mode=None) "
   ]
  },
  {
   "cell_type": "markdown",
   "metadata": {
    "colab_type": "text",
    "id": "ehS-v3MIpX2h"
   },
   "source": [
    "### Training the CNN on the Training set and evaluating it on the Test set"
   ]
  },
  {
   "cell_type": "code",
   "execution_count": 13,
   "metadata": {},
   "outputs": [
    {
     "name": "stdout",
     "output_type": "stream",
     "text": [
      "WARNING:tensorflow:sample_weight modes were coerced from\n",
      "  ...\n",
      "    to  \n",
      "  ['...']\n",
      "WARNING:tensorflow:sample_weight modes were coerced from\n",
      "  ...\n",
      "    to  \n",
      "  ['...']\n",
      "Train for 250 steps, validate for 63 steps\n",
      "Epoch 1/30\n",
      "250/250 [==============================] - 41s 163ms/step - loss: 0.6791 - accuracy: 0.5639 - val_loss: 0.6246 - val_accuracy: 0.6645\n",
      "Epoch 2/30\n",
      "250/250 [==============================] - 44s 178ms/step - loss: 0.6210 - accuracy: 0.6586 - val_loss: 0.6593 - val_accuracy: 0.6065\n",
      "Epoch 3/30\n",
      "250/250 [==============================] - 52s 208ms/step - loss: 0.5884 - accuracy: 0.6845 - val_loss: 0.5766 - val_accuracy: 0.6950\n",
      "Epoch 4/30\n",
      "250/250 [==============================] - 41s 164ms/step - loss: 0.5551 - accuracy: 0.7131 - val_loss: 0.5334 - val_accuracy: 0.7465\n",
      "Epoch 5/30\n",
      "250/250 [==============================] - 42s 170ms/step - loss: 0.5244 - accuracy: 0.7356 - val_loss: 0.5161 - val_accuracy: 0.7535\n",
      "Epoch 6/30\n",
      "250/250 [==============================] - 43s 171ms/step - loss: 0.5034 - accuracy: 0.7514 - val_loss: 0.4915 - val_accuracy: 0.7640\n",
      "Epoch 7/30\n",
      "250/250 [==============================] - 45s 180ms/step - loss: 0.4832 - accuracy: 0.7671 - val_loss: 0.5430 - val_accuracy: 0.7390\n",
      "Epoch 8/30\n",
      "250/250 [==============================] - 40s 158ms/step - loss: 0.4566 - accuracy: 0.7809 - val_loss: 0.4886 - val_accuracy: 0.7800\n",
      "Epoch 9/30\n",
      "250/250 [==============================] - 41s 162ms/step - loss: 0.4376 - accuracy: 0.7910 - val_loss: 0.4946 - val_accuracy: 0.7715\n",
      "Epoch 10/30\n",
      "250/250 [==============================] - 40s 158ms/step - loss: 0.4349 - accuracy: 0.7935 - val_loss: 0.5059 - val_accuracy: 0.7740\n",
      "Epoch 11/30\n",
      "250/250 [==============================] - 43s 172ms/step - loss: 0.4132 - accuracy: 0.8051 - val_loss: 0.4718 - val_accuracy: 0.7920\n",
      "Epoch 12/30\n",
      "250/250 [==============================] - 40s 160ms/step - loss: 0.3956 - accuracy: 0.8181 - val_loss: 0.4818 - val_accuracy: 0.7785\n",
      "Epoch 13/30\n",
      "250/250 [==============================] - 41s 165ms/step - loss: 0.3912 - accuracy: 0.8242 - val_loss: 0.4694 - val_accuracy: 0.7990\n",
      "Epoch 14/30\n",
      "250/250 [==============================] - 40s 159ms/step - loss: 0.3665 - accuracy: 0.8375 - val_loss: 0.4635 - val_accuracy: 0.8010\n",
      "Epoch 15/30\n",
      "250/250 [==============================] - 38s 154ms/step - loss: 0.3581 - accuracy: 0.8396 - val_loss: 0.4739 - val_accuracy: 0.7910\n",
      "Epoch 16/30\n",
      "250/250 [==============================] - 38s 153ms/step - loss: 0.3407 - accuracy: 0.8470 - val_loss: 0.4836 - val_accuracy: 0.7905\n",
      "Epoch 17/30\n",
      "250/250 [==============================] - 39s 155ms/step - loss: 0.3298 - accuracy: 0.8522 - val_loss: 0.4953 - val_accuracy: 0.7975\n",
      "Epoch 18/30\n",
      "250/250 [==============================] - 39s 155ms/step - loss: 0.3146 - accuracy: 0.8606 - val_loss: 0.4921 - val_accuracy: 0.7915\n",
      "Epoch 19/30\n",
      "250/250 [==============================] - 39s 156ms/step - loss: 0.2935 - accuracy: 0.8709 - val_loss: 0.5664 - val_accuracy: 0.7870\n",
      "Epoch 20/30\n",
      "250/250 [==============================] - 40s 161ms/step - loss: 0.2931 - accuracy: 0.8710 - val_loss: 0.5097 - val_accuracy: 0.7875\n",
      "Epoch 21/30\n",
      "250/250 [==============================] - 39s 155ms/step - loss: 0.2779 - accuracy: 0.8829 - val_loss: 0.5109 - val_accuracy: 0.7825\n",
      "Epoch 22/30\n",
      "250/250 [==============================] - 43s 173ms/step - loss: 0.2610 - accuracy: 0.8920 - val_loss: 0.5236 - val_accuracy: 0.7870\n",
      "Epoch 23/30\n",
      "250/250 [==============================] - 39s 154ms/step - loss: 0.2475 - accuracy: 0.8942 - val_loss: 0.5486 - val_accuracy: 0.7875\n",
      "Epoch 24/30\n",
      "250/250 [==============================] - 39s 154ms/step - loss: 0.2384 - accuracy: 0.8991 - val_loss: 0.5502 - val_accuracy: 0.7885\n",
      "Epoch 25/30\n",
      "250/250 [==============================] - 38s 154ms/step - loss: 0.2263 - accuracy: 0.9057 - val_loss: 0.5764 - val_accuracy: 0.7930\n",
      "Epoch 26/30\n",
      "250/250 [==============================] - 38s 153ms/step - loss: 0.2153 - accuracy: 0.9133 - val_loss: 0.5856 - val_accuracy: 0.8005\n",
      "Epoch 27/30\n",
      "250/250 [==============================] - 39s 155ms/step - loss: 0.2121 - accuracy: 0.9144 - val_loss: 0.5967 - val_accuracy: 0.7805\n",
      "Epoch 28/30\n",
      "250/250 [==============================] - 39s 156ms/step - loss: 0.2020 - accuracy: 0.9206 - val_loss: 0.5907 - val_accuracy: 0.7940\n",
      "Epoch 29/30\n",
      "250/250 [==============================] - 43s 171ms/step - loss: 0.1930 - accuracy: 0.9231 - val_loss: 0.6254 - val_accuracy: 0.7965\n",
      "Epoch 30/30\n",
      "250/250 [==============================] - 40s 160ms/step - loss: 0.1811 - accuracy: 0.9299 - val_loss: 0.6213 - val_accuracy: 0.7885\n"
     ]
    },
    {
     "data": {
      "text/plain": [
       "<tensorflow.python.keras.callbacks.History at 0x24586573c48>"
      ]
     },
     "execution_count": 13,
     "metadata": {},
     "output_type": "execute_result"
    }
   ],
   "source": [
    "cnn.fit(x=training_set,validation_data=test_set,epochs= 30)"
   ]
  },
  {
   "cell_type": "markdown",
   "metadata": {},
   "source": [
    "## Part 4 - Making a Single Prediction"
   ]
  },
  {
   "cell_type": "code",
   "execution_count": 14,
   "metadata": {},
   "outputs": [
    {
     "data": {
      "text/plain": [
       "{'cats': 0, 'dogs': 1}"
      ]
     },
     "execution_count": 14,
     "metadata": {},
     "output_type": "execute_result"
    }
   ],
   "source": [
    "# encoding \n",
    "training_set.class_indices"
   ]
  },
  {
   "cell_type": "code",
   "execution_count": 37,
   "metadata": {},
   "outputs": [],
   "source": [
    "from keras.preprocessing import image\n",
    "\n",
    "# converting the test image into pil format\n",
    "test_image = image.load_img('dataset/single_prediction/dog5.jpg', target_size = (64,64))\n",
    "\n",
    "# coverting pil image to numpy array for predict function to accept it\n",
    "test_image = image.img_to_array(test_image)\n",
    "\n",
    "# making the image as batch\n",
    "test_image = np.expand_dims(test_image, axis=0)\n",
    "\n",
    "result = cnn.predict(test_image)\n",
    "\n",
    "# Prediction of 2D-batch\n",
    "\n",
    "if result[0][0] == 1:\n",
    "    prediction = 'dog'\n",
    "else:\n",
    "    prediction = 'cat'"
   ]
  },
  {
   "cell_type": "markdown",
   "metadata": {},
   "source": [
    "### Prediction:"
   ]
  },
  {
   "cell_type": "code",
   "execution_count": 36,
   "metadata": {},
   "outputs": [
    {
     "name": "stdout",
     "output_type": "stream",
     "text": [
      "dog\n"
     ]
    }
   ],
   "source": [
    "print(prediction)"
   ]
  }
 ],
 "metadata": {
  "colab": {
   "authorship_tag": "ABX9TyN4RwM22jdD+NwpsDagcktL",
   "collapsed_sections": [],
   "name": "Convolutional Neural Network",
   "provenance": [],
   "toc_visible": true
  },
  "kernelspec": {
   "display_name": "Python 3",
   "language": "python",
   "name": "python3"
  },
  "language_info": {
   "codemirror_mode": {
    "name": "ipython",
    "version": 3
   },
   "file_extension": ".py",
   "mimetype": "text/x-python",
   "name": "python",
   "nbconvert_exporter": "python",
   "pygments_lexer": "ipython3",
   "version": "3.7.7"
  }
 },
 "nbformat": 4,
 "nbformat_minor": 1
}
